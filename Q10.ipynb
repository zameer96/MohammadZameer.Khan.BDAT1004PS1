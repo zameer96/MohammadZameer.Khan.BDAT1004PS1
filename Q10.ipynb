{
 "cells": [
  {
   "cell_type": "markdown",
   "id": "5d88ecd1",
   "metadata": {},
   "source": [
    "### Question 10 Python\n",
    "\n",
    "Encryption is the process of hiding the meaning of a text by substituting letters in the\n",
    "message with other letters, according to some system. If the process is successful, no\n",
    "one but the intended recipient can understand the encrypted message. Cryptanalysis\n",
    "refers to attempts to undo the encryption, even if some details of the encryption are\n",
    "unknown (for example, if an encrypted message has been intercepted). The first step\n",
    "of cryptanalysis is often to build up a table of letter frequencies in the encrypted text.\n",
    "Assume that the string letters is already defined as\n",
    "'abcdefghijklmnopqrstuvwxyz'. Write a function called frequencies()\n",
    "that takes a string as its only parameter, and returns a list of integers, showing the\n",
    "number of times each character appears in the text. Your function may ignore any\n",
    "characters that are not in letters.\n",
    "\n",
    "```\n",
    ">>> frequencies('The quick red fox got bored and went home.')\n",
    "[1, 1, 1, 3, 5, 1, 1, 2, 1, 0, 1, 0, 1, 2, 4, 0, 1, 2, 0, 2,\n",
    "1, 0, 1, 1, 0, 0]\n",
    ">>> frequencies('apple')\n",
    "```"
   ]
  },
  {
   "cell_type": "code",
   "execution_count": 6,
   "id": "defd03b9",
   "metadata": {},
   "outputs": [
    {
     "name": "stdout",
     "output_type": "stream",
     "text": [
      "[1, 1, 1, 3, 5, 1, 1, 2, 1, 0, 1, 0, 1, 2, 4, 0, 1, 2, 0, 2, 1, 0, 1, 1, 0, 0]\n",
      "[1, 0, 0, 0, 1, 0, 0, 0, 0, 0, 0, 1, 0, 0, 0, 2, 0, 0, 0, 0, 0, 0, 0, 0, 0, 0]\n",
      "Enter the text: THis is a random test string\n",
      "[2, 0, 0, 1, 1, 0, 1, 0, 3, 0, 0, 0, 1, 2, 1, 0, 0, 2, 4, 3, 0, 0, 0, 0, 0, 0]\n"
     ]
    }
   ],
   "source": [
    "def frequencies(text):\n",
    "    alphabet = 'abcdefghijklmnopqrstuvwxyz'\n",
    "    frequency_list = [0] * 26\n",
    " \n",
    "    \n",
    "    for letter in text:\n",
    "        # Check if the character is in the string\n",
    "        if letter in alphabet:\n",
    "            index = alphabet.index(letter)\n",
    "            frequency_list[index] += 1\n",
    " \n",
    "    return frequency_list\n",
    "\n",
    "result1 = frequencies('The quick red fox got bored and went home.')\n",
    "result2 = frequencies('apple')\n",
    "print(result1)\n",
    "print(result2)\n",
    "user_input = input(\"Enter the text: \")\n",
    "result3 = frequencies(user_input)\n",
    "\n",
    "\n",
    "print(result3)"
   ]
  },
  {
   "cell_type": "code",
   "execution_count": null,
   "id": "b4194cdf",
   "metadata": {},
   "outputs": [],
   "source": []
  }
 ],
 "metadata": {
  "kernelspec": {
   "display_name": "Python 3 (ipykernel)",
   "language": "python",
   "name": "python3"
  },
  "language_info": {
   "codemirror_mode": {
    "name": "ipython",
    "version": 3
   },
   "file_extension": ".py",
   "mimetype": "text/x-python",
   "name": "python",
   "nbconvert_exporter": "python",
   "pygments_lexer": "ipython3",
   "version": "3.11.4"
  }
 },
 "nbformat": 4,
 "nbformat_minor": 5
}
