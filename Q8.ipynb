{
 "cells": [
  {
   "cell_type": "markdown",
   "id": "5b6593a9",
   "metadata": {},
   "source": [
    "### Question 8 Python\n",
    "```\n",
    "Write a function curconv() that takes as input:\n",
    "1. a currency represented using a string (e.g., 'JPY' for the Japanese Yen or\n",
    "'EUR' for the Euro)\n",
    "2. an amount\n",
    "and then converts and returns the amount in US dollars.\n",
    ">>> curconv('EUR', 100)\n",
    "122.96544\n",
    ">>> curconv('JPY', 100)\n",
    "1.241401\n",
    "The currency rates you will need are stored in file currencies.txt:\n",
    "AUD 1.0345157 Australian Dollar\n",
    "CHF 1.0237414 Swiss Franc\n",
    "CNY 0.1550176 Chinese Yuan\n",
    "DKK 0.1651442 Danish Krone\n",
    "EUR 1.2296544 Euro\n",
    "GBP 1.5550989 British Pound\n",
    "HKD 0.1270207 Hong Kong Dollar\n",
    "INR 0.0177643 Indian Rupee\n",
    "JPY 0.01241401 Japanese Yen\n",
    "MXN 0.0751848 Mexican Peso\n",
    "MYR 0.3145411 Malaysian Ringgit\n",
    "NOK 0.1677063 Norwegian Krone\n",
    "NZD 0.8003591 New Zealand Dollar\n",
    "PHP 0.0233234 Philippine Peso\n",
    "SEK 0.148269 Swedish Krona\n",
    "SGD 0.788871 Singapore Dollar\n",
    "THB 0.0313789 Thai Baht\n",
    "```"
   ]
  },
  {
   "cell_type": "code",
   "execution_count": 13,
   "id": "f9d0e5b2",
   "metadata": {},
   "outputs": [
    {
     "name": "stdout",
     "output_type": "stream",
     "text": [
      "Enter Currency Code:INR\n",
      "Enter Amount:500\n",
      "The amount in USD is: 8.88215\n"
     ]
    }
   ],
   "source": [
    "\n",
    "def curconv(currency, amount):\n",
    "    try:\n",
    "        # Acces the file\n",
    "        with open('currencies.txt', 'r') as file:\n",
    "            for line in file:\n",
    "                # process the text string and split it based on code,rate_str\n",
    "                code, rate_str, _ = line.strip().split('\\t')\n",
    "                \n",
    "                if code == currency:\n",
    "                    # Convert the amount to USD using the exchange rate\n",
    "                    usd_amount = float(rate_str) * amount\n",
    "                    return usd_amount\n",
    "\n",
    "        # Show error if no currency found\n",
    "        print(f\"Error: '{currency}' not in database.\")\n",
    "        return None\n",
    "\n",
    "    except ValueError:\n",
    "        print(\"Error: Invalid format in currency file.\")\n",
    "        return None\n",
    "\n",
    "\n",
    "currency_input = input(\"Enter Currency Code:\")\n",
    "currency_input = currency_input.upper()\n",
    "amount_input = float(input(\"Enter Amount:\"))\n",
    "\n",
    "\n",
    "result = curconv(currency_input, amount_input)\n",
    "\n",
    "if result is not None:\n",
    "    print(f\"The amount in USD is: {result}\")\n"
   ]
  },
  {
   "cell_type": "code",
   "execution_count": null,
   "id": "5ee89c6e",
   "metadata": {},
   "outputs": [],
   "source": []
  },
  {
   "cell_type": "code",
   "execution_count": null,
   "id": "ab75367f",
   "metadata": {},
   "outputs": [],
   "source": []
  }
 ],
 "metadata": {
  "kernelspec": {
   "display_name": "Python 3 (ipykernel)",
   "language": "python",
   "name": "python3"
  },
  "language_info": {
   "codemirror_mode": {
    "name": "ipython",
    "version": 3
   },
   "file_extension": ".py",
   "mimetype": "text/x-python",
   "name": "python",
   "nbconvert_exporter": "python",
   "pygments_lexer": "ipython3",
   "version": "3.11.4"
  }
 },
 "nbformat": 4,
 "nbformat_minor": 5
}
