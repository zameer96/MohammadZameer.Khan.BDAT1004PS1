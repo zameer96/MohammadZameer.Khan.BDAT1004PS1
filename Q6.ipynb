{
 "cells": [
  {
   "cell_type": "markdown",
   "id": "691368a1",
   "metadata": {},
   "source": [
    "## Question 6 Python\n",
    "You can turn a word into pig-Latin using the following two rules (simplified):\n",
    "• If the word starts with a consonant, move that letter to the end and append\n",
    "'ay'. For example, 'happy' becomes 'appyhay' and 'pencil' becomes 'encilpay'.\n",
    "• If the word starts with a vowel, simply append 'way' to the end of the word.\n",
    "For example, 'enter' becomes 'enterway' and 'other' becomes 'otherway' . For\n",
    "our purposes, there are 5 vowels: a, e, i, o, u (so we count y as a consonant).\n",
    "Write a function pig() that takes a word (i.e., a string) as input and returns its pigLatin form. Your function should still work if the input word contains upper case\n",
    "characters. Your output should always be lower case however. "
   ]
  },
  {
   "cell_type": "code",
   "execution_count": 3,
   "id": "83aecbbb",
   "metadata": {},
   "outputs": [
    {
     "name": "stdout",
     "output_type": "stream",
     "text": [
      "Enter word: happy\n",
      "pig('happy')\n",
      "'appyhay'\n",
      "Enter word: Enter\n",
      "pig('enter')\n",
      "'enterway'\n"
     ]
    }
   ],
   "source": [
    "def pig(word):\n",
    "    # make it lower case\n",
    "    word = word.lower()\n",
    "    \n",
    "    # check if char is vowel or not\n",
    "    if word[0] in ['a', 'e', 'i', 'o', 'u']:\n",
    "        return f\"pig('{word}')\\n'{word}way'\"\n",
    "    else:\n",
    "        return f\"pig('{word}')\\n'{word[1:]}{word[0]}ay'\"\n",
    "\n",
    "input_word = input(\"Enter word: \")\n",
    "result = pig(input_word)\n",
    "print(result)\n",
    "\n",
    "input_word = input(\"Enter word: \")\n",
    "result = pig(input_word)\n",
    "print(result)"
   ]
  },
  {
   "cell_type": "code",
   "execution_count": null,
   "id": "0664585a",
   "metadata": {},
   "outputs": [],
   "source": []
  }
 ],
 "metadata": {
  "kernelspec": {
   "display_name": "Python 3 (ipykernel)",
   "language": "python",
   "name": "python3"
  },
  "language_info": {
   "codemirror_mode": {
    "name": "ipython",
    "version": 3
   },
   "file_extension": ".py",
   "mimetype": "text/x-python",
   "name": "python",
   "nbconvert_exporter": "python",
   "pygments_lexer": "ipython3",
   "version": "3.11.4"
  }
 },
 "nbformat": 4,
 "nbformat_minor": 5
}
