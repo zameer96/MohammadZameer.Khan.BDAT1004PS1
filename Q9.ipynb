{
 "cells": [
  {
   "cell_type": "markdown",
   "id": "a87378cd",
   "metadata": {},
   "source": [
    "### Question 9 Python\n",
    "Each of the following will cause an exception (an error). Identify what type of\n",
    "exception each will cause.\n",
    "Trying to add incompatible variables, as in\n",
    "adding \"6 + ‘a’\"\n",
    "<br>\n",
    "Referring to the 12th item of a list that has only 10\n",
    "items\n",
    "<br>\n",
    "Using a value that is out of range for a function’s\n",
    "input, such as calling math.sqrt(-1.0)\n",
    "<br>\n",
    "Using an undeclared variable, such as print(x)\n",
    "when x has not been defined\n",
    "<br>\n",
    "Trying to open a file that does not exist, such as\n",
    "mistyping the file name or looking in the wrong\n",
    "directory. "
   ]
  },
  {
   "cell_type": "raw",
   "id": "3d1e5dce",
   "metadata": {},
   "source": [
    "1.Trying to add incompatible variables, as in\n",
    "adding 6 + ‘a’\n",
    "Ans:- Since Python does not permit adding int to strings, it will generate a TypeError.\n",
    "\n",
    "2.Referring to the 12th item of a list that has only 10\n",
    "items\n",
    "Ans:- Since the 12th item in the list of 10 does not exist, an IndexError will be thrown.\n",
    "\n",
    "3.Using a value that is out of range for a function’s\n",
    "input, such as calling math.sqrt(-1.0)\n",
    "Ans:- ValueError will be thrown as square root of negative number is not defined\n",
    "\n",
    "4.Using an undeclared variable, such as print(x)\n",
    "when x has not been defined\n",
    "Ans:- NameError will be thrown as there is no value assinged to variable x\n",
    "\n",
    "5.Trying to open a file that does not exist, such as\n",
    "mistyping the file name or looking in the wrong\n",
    "directory.\n",
    "Ans:-FileNotFoundError is the error we will get as the specified file does not exist in given location"
   ]
  },
  {
   "cell_type": "code",
   "execution_count": null,
   "id": "88fb8aaa",
   "metadata": {},
   "outputs": [],
   "source": []
  }
 ],
 "metadata": {
  "kernelspec": {
   "display_name": "Python 3 (ipykernel)",
   "language": "python",
   "name": "python3"
  },
  "language_info": {
   "codemirror_mode": {
    "name": "ipython",
    "version": 3
   },
   "file_extension": ".py",
   "mimetype": "text/x-python",
   "name": "python",
   "nbconvert_exporter": "python",
   "pygments_lexer": "ipython3",
   "version": "3.11.4"
  }
 },
 "nbformat": 4,
 "nbformat_minor": 5
}
