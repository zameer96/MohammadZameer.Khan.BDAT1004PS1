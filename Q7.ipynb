{
 "cells": [
  {
   "cell_type": "markdown",
   "id": "8effd43f",
   "metadata": {},
   "source": [
    "### cQuestion 7 Python\n",
    "File bloodtype1.txt records blood-types of patients (A, B, AB, O or OO) at a clinic.\n",
    "Write a function bldcount() that reads the file with name name and reports (i.e.,\n",
    "prints) how many patients there are in each bloodtype.\n",
    "```\n",
    ">> bldcount('bloodtype.txt')\n",
    "There are 10 patients of blood type A.\n",
    "There is one patient of blood type B.\n",
    "There are 10 patients of blood type AB.\n",
    "There are 12 patients of blood type O.\n",
    "There are no patients of blood type OO.\n",
    "```"
   ]
  },
  {
   "cell_type": "code",
   "execution_count": 9,
   "id": "b02bdd02",
   "metadata": {},
   "outputs": [
    {
     "name": "stdout",
     "output_type": "stream",
     "text": [
      "Blood Type A: 15 Patients!\n",
      "Blood Type B: 1 Patients!\n",
      "Blood Type AB: 13 Patients!\n",
      "Blood Type O: 15 Patients!\n",
      "Blood Type OO: 0 Patients!\n"
     ]
    }
   ],
   "source": [
    "def bldcount(fname):\n",
    "    blood_type_count = {'A': 0, 'B': 0, 'AB': 0, 'O': 0, 'OO': 0}\n",
    "    \n",
    "    with open(fname, 'r') as file:\n",
    "        content = file.read()\n",
    "        # split the data to list of blood types\n",
    "        blood_types = content.split()\n",
    "\n",
    "        # Update data in dict\n",
    "        for bt in blood_types:\n",
    "            bt = bt.upper()\n",
    "            if bt in blood_type_count:\n",
    "                blood_type_count[bt] += 1\n",
    "            else:\n",
    "                print(f\"Invalid data: {blood_type}\")\n",
    "\n",
    "    for bt, count in blood_type_count.items():\n",
    "        print(f\"Blood Type {bt}: {count} Patients!\")\n",
    "\n",
    "bldcount('bloodtype1.txt')\n"
   ]
  },
  {
   "cell_type": "code",
   "execution_count": null,
   "id": "383c7231",
   "metadata": {},
   "outputs": [],
   "source": []
  }
 ],
 "metadata": {
  "kernelspec": {
   "display_name": "Python 3 (ipykernel)",
   "language": "python",
   "name": "python3"
  },
  "language_info": {
   "codemirror_mode": {
    "name": "ipython",
    "version": 3
   },
   "file_extension": ".py",
   "mimetype": "text/x-python",
   "name": "python",
   "nbconvert_exporter": "python",
   "pygments_lexer": "ipython3",
   "version": "3.11.4"
  }
 },
 "nbformat": 4,
 "nbformat_minor": 5
}
